{
 "cells": [
  {
   "cell_type": "code",
   "execution_count": 146,
   "id": "c1e23533",
   "metadata": {},
   "outputs": [
    {
     "name": "stdout",
     "output_type": "stream",
     "text": [
      "Defaulting to user installation because normal site-packages is not writeable\n",
      "Note: you may need to restart the kernel to use updated packages.\n"
     ]
    },
    {
     "name": "stderr",
     "output_type": "stream",
     "text": [
      "ERROR: Could not find a version that satisfies the requirement opencv (from versions: none)\n",
      "ERROR: No matching distribution found for opencv\n"
     ]
    }
   ],
   "source": [
    "%pip install opencv"
   ]
  },
  {
   "cell_type": "code",
   "execution_count": 147,
   "id": "82b38390",
   "metadata": {},
   "outputs": [],
   "source": [
    "import cv2\n",
    "import os\n"
   ]
  },
  {
   "cell_type": "code",
   "execution_count": 148,
   "id": "30ba71b7",
   "metadata": {},
   "outputs": [],
   "source": [
    "video = cv2.VideoCapture(0)"
   ]
  },
  {
   "cell_type": "code",
   "execution_count": 149,
   "id": "761a08fa",
   "metadata": {},
   "outputs": [],
   "source": [
    "faceDetect= cv2.CascadeClassifier('haarcascade_frontalface_default.xml')"
   ]
  },
  {
   "cell_type": "code",
   "execution_count": 150,
   "id": "d7b8f162",
   "metadata": {},
   "outputs": [],
   "source": [
    "count =  0"
   ]
  },
  {
   "cell_type": "code",
   "execution_count": 151,
   "id": "41a20c80",
   "metadata": {},
   "outputs": [],
   "source": [
    "nameID=str(input(\"Enter Your Name: \")).lower()"
   ]
  },
  {
   "cell_type": "code",
   "execution_count": 152,
   "id": "1a2b92c8",
   "metadata": {},
   "outputs": [],
   "source": [
    "path='images/'+nameID"
   ]
  },
  {
   "cell_type": "code",
   "execution_count": 153,
   "id": "1937ecd9",
   "metadata": {},
   "outputs": [],
   "source": [
    "isExist =  os.path.exists(path)"
   ]
  },
  {
   "cell_type": "code",
   "execution_count": 154,
   "id": "284c4781",
   "metadata": {},
   "outputs": [],
   "source": [
    "if isExist:\n",
    "\tprint(\"Name Already Taken\")\n",
    "\tnameID=str(input(\"Enter Your Name Again: \"))\n",
    "else:\n",
    "\tos.makedirs(path)\n",
    "\t\t\n",
    "\t\t"
   ]
  },
  {
   "cell_type": "code",
   "execution_count": 155,
   "id": "38df82df",
   "metadata": {},
   "outputs": [
    {
     "name": "stdout",
     "output_type": "stream",
     "text": [
      "Creating Images........../images/tushar r m/1.jpg\n",
      "Creating Images........../images/tushar r m/2.jpg\n",
      "Creating Images........../images/tushar r m/3.jpg\n",
      "Creating Images........../images/tushar r m/4.jpg\n",
      "Creating Images........../images/tushar r m/5.jpg\n",
      "Creating Images........../images/tushar r m/6.jpg\n",
      "Creating Images........../images/tushar r m/7.jpg\n",
      "Creating Images........../images/tushar r m/8.jpg\n",
      "Creating Images........../images/tushar r m/9.jpg\n",
      "Creating Images........../images/tushar r m/10.jpg\n",
      "Creating Images........../images/tushar r m/11.jpg\n",
      "Creating Images........../images/tushar r m/12.jpg\n",
      "Creating Images........../images/tushar r m/13.jpg\n",
      "Creating Images........../images/tushar r m/14.jpg\n",
      "Creating Images........../images/tushar r m/15.jpg\n",
      "Creating Images........../images/tushar r m/16.jpg\n",
      "Creating Images........../images/tushar r m/17.jpg\n",
      "Creating Images........../images/tushar r m/18.jpg\n",
      "Creating Images........../images/tushar r m/19.jpg\n",
      "Creating Images........../images/tushar r m/20.jpg\n",
      "Creating Images........../images/tushar r m/21.jpg\n",
      "Creating Images........../images/tushar r m/22.jpg\n",
      "Creating Images........../images/tushar r m/23.jpg\n",
      "Creating Images........../images/tushar r m/24.jpg\n",
      "Creating Images........../images/tushar r m/25.jpg\n",
      "Creating Images........../images/tushar r m/26.jpg\n",
      "Creating Images........../images/tushar r m/27.jpg\n",
      "Creating Images........../images/tushar r m/28.jpg\n",
      "Creating Images........../images/tushar r m/29.jpg\n",
      "Creating Images........../images/tushar r m/30.jpg\n",
      "Creating Images........../images/tushar r m/31.jpg\n",
      "Creating Images........../images/tushar r m/32.jpg\n",
      "Creating Images........../images/tushar r m/33.jpg\n",
      "Creating Images........../images/tushar r m/34.jpg\n",
      "Creating Images........../images/tushar r m/35.jpg\n",
      "Creating Images........../images/tushar r m/36.jpg\n",
      "Creating Images........../images/tushar r m/37.jpg\n",
      "Creating Images........../images/tushar r m/38.jpg\n",
      "Creating Images........../images/tushar r m/39.jpg\n",
      "Creating Images........../images/tushar r m/40.jpg\n",
      "Creating Images........../images/tushar r m/41.jpg\n",
      "Creating Images........../images/tushar r m/42.jpg\n",
      "Creating Images........../images/tushar r m/43.jpg\n",
      "Creating Images........../images/tushar r m/44.jpg\n",
      "Creating Images........../images/tushar r m/45.jpg\n",
      "Creating Images........../images/tushar r m/46.jpg\n",
      "Creating Images........../images/tushar r m/47.jpg\n",
      "Creating Images........../images/tushar r m/48.jpg\n",
      "Creating Images........../images/tushar r m/49.jpg\n",
      "Creating Images........../images/tushar r m/50.jpg\n",
      "Creating Images........../images/tushar r m/51.jpg\n",
      "Creating Images........../images/tushar r m/52.jpg\n",
      "Creating Images........../images/tushar r m/53.jpg\n",
      "Creating Images........../images/tushar r m/54.jpg\n",
      "Creating Images........../images/tushar r m/55.jpg\n",
      "Creating Images........../images/tushar r m/56.jpg\n",
      "Creating Images........../images/tushar r m/57.jpg\n",
      "Creating Images........../images/tushar r m/58.jpg\n",
      "Creating Images........../images/tushar r m/59.jpg\n",
      "Creating Images........../images/tushar r m/60.jpg\n",
      "Creating Images........../images/tushar r m/61.jpg\n",
      "Creating Images........../images/tushar r m/62.jpg\n",
      "Creating Images........../images/tushar r m/63.jpg\n",
      "Creating Images........../images/tushar r m/64.jpg\n",
      "Creating Images........../images/tushar r m/65.jpg\n",
      "Creating Images........../images/tushar r m/66.jpg\n",
      "Creating Images........../images/tushar r m/67.jpg\n",
      "Creating Images........../images/tushar r m/68.jpg\n",
      "Creating Images........../images/tushar r m/69.jpg\n",
      "Creating Images........../images/tushar r m/70.jpg\n",
      "Creating Images........../images/tushar r m/71.jpg\n",
      "Creating Images........../images/tushar r m/72.jpg\n",
      "Creating Images........../images/tushar r m/73.jpg\n",
      "Creating Images........../images/tushar r m/74.jpg\n",
      "Creating Images........../images/tushar r m/75.jpg\n",
      "Creating Images........../images/tushar r m/76.jpg\n",
      "Creating Images........../images/tushar r m/77.jpg\n",
      "Creating Images........../images/tushar r m/78.jpg\n",
      "Creating Images........../images/tushar r m/79.jpg\n",
      "Creating Images........../images/tushar r m/80.jpg\n",
      "Creating Images........../images/tushar r m/81.jpg\n",
      "Creating Images........../images/tushar r m/82.jpg\n",
      "Creating Images........../images/tushar r m/83.jpg\n",
      "Creating Images........../images/tushar r m/84.jpg\n",
      "Creating Images........../images/tushar r m/85.jpg\n",
      "Creating Images........../images/tushar r m/86.jpg\n",
      "Creating Images........../images/tushar r m/87.jpg\n",
      "Creating Images........../images/tushar r m/88.jpg\n",
      "Creating Images........../images/tushar r m/89.jpg\n",
      "Creating Images........../images/tushar r m/90.jpg\n",
      "Creating Images........../images/tushar r m/91.jpg\n",
      "Creating Images........../images/tushar r m/92.jpg\n",
      "Creating Images........../images/tushar r m/93.jpg\n",
      "Creating Images........../images/tushar r m/94.jpg\n",
      "Creating Images........../images/tushar r m/95.jpg\n",
      "Creating Images........../images/tushar r m/96.jpg\n",
      "Creating Images........../images/tushar r m/97.jpg\n",
      "Creating Images........../images/tushar r m/98.jpg\n",
      "Creating Images........../images/tushar r m/99.jpg\n",
      "Creating Images........../images/tushar r m/100.jpg\n",
      "Creating Images........../images/tushar r m/101.jpg\n"
     ]
    }
   ],
   "source": [
    "while True:\n",
    "\tret,frame=video.read()\n",
    "\tfaces=faceDetect.detectMultiScale(frame,1.3, 5)\n",
    "\tfor x,y,w,h in faces:\n",
    "\t\tcount=count+1\n",
    "\t\tname='./images/'+nameID+'/'+ str(count) + '.jpg'\n",
    "\t\tprint(\"Creating Images.........\" +name)\n",
    "\t\tcv2.imwrite(name, frame[y:y+h,x:x+w])\n",
    "\t\tcv2.rectangle(frame, (x,y), (x+w, y+h), (0,255,0), 3)\n",
    "\tcv2.imshow(\"WindowFrame\", frame)\n",
    "\tcv2.waitKey(1)\n",
    "\tif count>100:\n",
    "\t\tbreak"
   ]
  },
  {
   "cell_type": "code",
   "execution_count": 156,
   "id": "e41ccff4",
   "metadata": {},
   "outputs": [],
   "source": [
    "video.release()\n",
    "cv2.destroyAllWindows()\n"
   ]
  }
 ],
 "metadata": {
  "kernelspec": {
   "display_name": "Python 3",
   "language": "python",
   "name": "python3"
  },
  "language_info": {
   "codemirror_mode": {
    "name": "ipython",
    "version": 3
   },
   "file_extension": ".py",
   "mimetype": "text/x-python",
   "name": "python",
   "nbconvert_exporter": "python",
   "pygments_lexer": "ipython3",
   "version": "3.13.7"
  }
 },
 "nbformat": 4,
 "nbformat_minor": 5
}
